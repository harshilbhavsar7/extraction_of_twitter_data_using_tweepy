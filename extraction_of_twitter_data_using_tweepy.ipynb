{
 "cells": [
  {
   "cell_type": "markdown",
   "id": "90636bae",
   "metadata": {},
   "source": [
    "## ICA-1: Creating Twitter developer account and collecting data from Twitter using Twitter API."
   ]
  },
  {
   "cell_type": "code",
   "execution_count": 37,
   "id": "4ebb3343",
   "metadata": {},
   "outputs": [],
   "source": [
    "import configparser\n",
    "import tweepy\n",
    "\n",
    "# read config\n",
    "config = configparser.ConfigParser()\n",
    "config.read('config.ini')\n",
    "\n",
    "## content of the config fill is as below\n",
    "# api_key = xxxxxxx\n",
    "# api_key_secret = xxxxxxxx\n",
    "# access_token = xxxxxx-xxxxxx\n",
    "# access_token_secret = xxxxxxxx\n",
    "\n",
    "\n",
    "api_key = config['twitter']['api_key']\n",
    "api_key_secret = config['twitter']['api_key_secret']\n",
    "\n",
    "access_token = config['twitter']['access_token']\n",
    "access_token_secret = config['twitter']['access_token_secret']\n",
    "\n",
    "# authenticate\n",
    "auth = tweepy.OAuthHandler(api_key, api_key_secret)\n",
    "auth.set_access_token(access_token, access_token_secret)\n",
    "\n",
    "api = tweepy.API(auth)"
   ]
  },
  {
   "cell_type": "code",
   "execution_count": 44,
   "id": "1ad0868b",
   "metadata": {},
   "outputs": [
    {
     "name": "stdout",
     "output_type": "stream",
     "text": [
      "Disneyland Paris (@DisneylandParis) is the first brand in France to use the new 360 video format, allowing 360-degr… https://t.co/nkIK7ufB3c\n",
      "\n",
      "Run a marathon in under two hours. Impossible? Not for Nike (@Nike). Last May, the company brought three of the bes… https://t.co/KBeiIvauqP\n",
      "\n"
     ]
    }
   ],
   "source": [
    "test_tweets = api.home_timeline()\n",
    "\n",
    "# Looping through the tweets:\n",
    "for tweet in test_tweets:\n",
    "    print(tweet.text + \"\\n\")"
   ]
  },
  {
   "cell_type": "code",
   "execution_count": null,
   "id": "e2c1f55d",
   "metadata": {},
   "outputs": [],
   "source": [
    "tweets = api.search_tweets(\n",
    "    q=\"#Disney\",\n",
    "    count=10\n",
    ")"
   ]
  },
  {
   "cell_type": "code",
   "execution_count": 48,
   "id": "5cfc5d4f",
   "metadata": {},
   "outputs": [
    {
     "name": "stdout",
     "output_type": "stream",
     "text": [
      "RT @ARCENCI3L: Uh... Hola, soy Marc\n",
      "¿Les gustan los cómics? Me recomendaron mucho usar esta aplicación para encontrar personas con gustos s…\n",
      "\n",
      "That is how Disney feels. #disney #NationalOppositeDay? #LaBelleetlaBête #NationalCocoaDay\n",
      "\n",
      "No sé, pero me suena ya a un nivel de soberbia en el q ya no importa lo q se saque, se tiene completa confianza en… https://t.co/R1gI3q9nwh\n",
      "\n",
      "RT @KyloRenRadio: @PickYourBrian Eh, if it's just Happy Jedi Space Nun Rey, can't get invested in that. \n",
      "Jedi Rey searching the Galaxy for…\n",
      "\n",
      "RT @kristalldroppar: I gave up on this 🤷 \n",
      "\n",
      "#huntlow #toh #huntertoh #tohHunter #tohwillow #willowtoh #willowpark #tohfanart #theowlhouse #t…\n",
      "\n",
      "#Disney planea rodar #Aladdin2 a finales de año, con Will Smith interpretando al genio de nuevo.\n",
      "\n",
      "Será su primer pa… https://t.co/irNQUYjCWI\n",
      "\n",
      "RT @inMARVEL_: Según Stephen Broussard (productor) #AntManAndTheWaspQuantumania tratará la embriaguez del multiverso:\n",
      "\n",
      "\"Mientras recordemos…\n",
      "\n",
      "RT @cassunzine: ☀️PREORDERS CLOSE IN 5 DAYS!☀️\n",
      "\n",
      "💙Page preview by: @alexpperkins \n",
      "\n",
      "💛Digital copies are now available in our store!\n",
      "\n",
      "💙Preorde…\n",
      "\n",
      "RT @MarshallOffici6: Maybe I should send a pic of Da Vinci to show that i still exist.\n",
      "#101DalmatianStreet #Save101DalmatianStreet #101Tren…\n",
      "\n",
      "RT @TheWinterBunny_: Want summer nights 🥰\n",
      "\n",
      "Some more of my older #WildeHopps for y’all. \n",
      "\n",
      "#Zootopia #Disney #furryart #myart #nickwilde #ju…\n",
      "\n"
     ]
    }
   ],
   "source": [
    "for tweet in tweets:\n",
    "    print(tweet.text + \"\\n\")"
   ]
  }
 ],
 "metadata": {
  "kernelspec": {
   "display_name": "Python 3 (ipykernel)",
   "language": "python",
   "name": "python3"
  },
  "language_info": {
   "codemirror_mode": {
    "name": "ipython",
    "version": 3
   },
   "file_extension": ".py",
   "mimetype": "text/x-python",
   "name": "python",
   "nbconvert_exporter": "python",
   "pygments_lexer": "ipython3",
   "version": "3.10.4"
  }
 },
 "nbformat": 4,
 "nbformat_minor": 5
}
